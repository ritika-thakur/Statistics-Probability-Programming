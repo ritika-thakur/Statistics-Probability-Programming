{
 "cells": [
  {
   "cell_type": "markdown",
   "metadata": {},
   "source": [
    "# Demonstrating Sampling Distribution and Central Limit Theorem"
   ]
  },
  {
   "cell_type": "code",
   "execution_count": 65,
   "metadata": {},
   "outputs": [],
   "source": [
    "import numpy as np"
   ]
  },
  {
   "cell_type": "code",
   "execution_count": 67,
   "metadata": {},
   "outputs": [],
   "source": [
    "die_throws =np.random.randint(low=1, high=7, size=(100,10))"
   ]
  },
  {
   "cell_type": "code",
   "execution_count": 68,
   "metadata": {},
   "outputs": [
    {
     "data": {
      "text/plain": [
       "array([[1, 5, 5, 2, 1, 5, 2, 5, 5, 6],\n",
       "       [1, 4, 2, 4, 3, 5, 2, 6, 6, 5],\n",
       "       [1, 4, 4, 3, 6, 6, 3, 3, 1, 4],\n",
       "       [2, 4, 3, 1, 3, 5, 3, 5, 5, 1],\n",
       "       [4, 1, 6, 3, 2, 4, 2, 4, 3, 3],\n",
       "       [4, 4, 3, 5, 4, 1, 4, 4, 6, 1],\n",
       "       [5, 2, 5, 3, 1, 3, 5, 4, 6, 4],\n",
       "       [6, 6, 5, 2, 4, 2, 4, 3, 4, 4],\n",
       "       [5, 4, 4, 2, 5, 4, 1, 1, 6, 1],\n",
       "       [5, 4, 2, 5, 1, 2, 1, 1, 2, 6],\n",
       "       [4, 5, 3, 6, 4, 6, 5, 4, 4, 1],\n",
       "       [2, 6, 3, 5, 6, 6, 5, 2, 3, 3],\n",
       "       [2, 6, 3, 1, 2, 3, 3, 3, 4, 4],\n",
       "       [3, 6, 1, 4, 3, 5, 3, 3, 4, 4],\n",
       "       [4, 5, 2, 4, 3, 5, 4, 4, 5, 1],\n",
       "       [1, 4, 5, 1, 5, 2, 1, 2, 5, 3],\n",
       "       [4, 6, 1, 6, 3, 5, 6, 1, 2, 4],\n",
       "       [1, 1, 6, 1, 3, 2, 1, 4, 2, 2],\n",
       "       [6, 4, 3, 6, 2, 5, 6, 2, 2, 3],\n",
       "       [3, 3, 5, 5, 4, 5, 6, 6, 2, 2],\n",
       "       [3, 6, 5, 4, 1, 1, 2, 6, 4, 4],\n",
       "       [3, 3, 6, 3, 2, 6, 1, 5, 2, 6],\n",
       "       [3, 4, 3, 1, 1, 4, 3, 6, 6, 3],\n",
       "       [4, 2, 3, 5, 4, 6, 3, 3, 1, 5],\n",
       "       [6, 5, 3, 5, 5, 5, 5, 2, 5, 5],\n",
       "       [2, 5, 3, 3, 3, 3, 6, 1, 3, 1],\n",
       "       [3, 2, 2, 3, 6, 5, 4, 5, 3, 4],\n",
       "       [5, 1, 5, 5, 3, 2, 1, 5, 4, 5],\n",
       "       [4, 6, 2, 6, 3, 3, 3, 4, 2, 1],\n",
       "       [4, 2, 1, 5, 4, 6, 3, 6, 2, 3],\n",
       "       [5, 6, 3, 2, 2, 3, 4, 4, 5, 2],\n",
       "       [6, 5, 4, 1, 1, 5, 2, 2, 1, 3],\n",
       "       [6, 1, 2, 1, 6, 6, 6, 6, 2, 6],\n",
       "       [5, 2, 2, 6, 6, 4, 6, 6, 2, 5],\n",
       "       [6, 5, 3, 1, 1, 3, 6, 4, 5, 4],\n",
       "       [3, 2, 2, 5, 5, 2, 3, 4, 3, 4],\n",
       "       [5, 1, 4, 2, 1, 4, 3, 4, 4, 5],\n",
       "       [2, 3, 4, 5, 3, 2, 5, 6, 3, 3],\n",
       "       [3, 2, 6, 3, 6, 5, 2, 5, 5, 5],\n",
       "       [1, 5, 5, 2, 6, 5, 2, 6, 4, 4],\n",
       "       [1, 5, 1, 4, 1, 1, 6, 3, 2, 1],\n",
       "       [4, 3, 1, 4, 5, 6, 2, 6, 1, 2],\n",
       "       [6, 1, 2, 2, 5, 3, 2, 1, 6, 2],\n",
       "       [2, 3, 6, 4, 3, 2, 4, 2, 6, 4],\n",
       "       [4, 6, 2, 6, 1, 2, 5, 2, 6, 6],\n",
       "       [2, 2, 1, 4, 6, 4, 6, 2, 6, 6],\n",
       "       [4, 4, 3, 5, 1, 3, 4, 5, 5, 5],\n",
       "       [1, 3, 2, 4, 1, 1, 2, 3, 2, 5],\n",
       "       [6, 6, 5, 6, 4, 3, 6, 5, 2, 6],\n",
       "       [3, 6, 5, 3, 3, 5, 5, 2, 5, 3],\n",
       "       [4, 4, 4, 3, 1, 2, 5, 1, 2, 1],\n",
       "       [2, 4, 6, 3, 3, 4, 2, 5, 2, 1],\n",
       "       [6, 1, 4, 3, 5, 2, 3, 2, 1, 2],\n",
       "       [6, 4, 1, 6, 3, 4, 6, 2, 2, 6],\n",
       "       [4, 2, 3, 1, 6, 2, 1, 1, 6, 6],\n",
       "       [4, 6, 5, 3, 4, 6, 6, 4, 2, 4],\n",
       "       [5, 6, 1, 1, 2, 3, 2, 6, 4, 1],\n",
       "       [5, 5, 5, 4, 1, 1, 4, 1, 5, 6],\n",
       "       [1, 1, 4, 6, 2, 6, 6, 4, 5, 1],\n",
       "       [2, 2, 3, 1, 3, 4, 6, 1, 3, 4],\n",
       "       [5, 3, 4, 1, 6, 4, 3, 2, 6, 4],\n",
       "       [3, 4, 4, 6, 4, 1, 4, 2, 1, 3],\n",
       "       [2, 5, 6, 5, 4, 2, 4, 2, 6, 2],\n",
       "       [3, 5, 1, 3, 2, 2, 1, 6, 3, 3],\n",
       "       [5, 2, 6, 4, 5, 6, 4, 4, 3, 2],\n",
       "       [2, 4, 3, 4, 2, 3, 6, 3, 6, 6],\n",
       "       [5, 6, 6, 2, 4, 4, 5, 3, 4, 2],\n",
       "       [1, 6, 5, 1, 3, 2, 1, 6, 2, 4],\n",
       "       [2, 3, 5, 1, 1, 5, 2, 2, 5, 5],\n",
       "       [2, 4, 6, 4, 6, 4, 6, 1, 3, 3],\n",
       "       [6, 3, 1, 6, 3, 3, 6, 5, 3, 3],\n",
       "       [1, 4, 4, 4, 5, 1, 6, 2, 5, 2],\n",
       "       [3, 2, 6, 2, 6, 1, 5, 2, 1, 1],\n",
       "       [2, 2, 2, 2, 6, 2, 6, 3, 2, 2],\n",
       "       [4, 6, 3, 1, 1, 6, 6, 2, 6, 2],\n",
       "       [4, 2, 2, 5, 1, 1, 3, 6, 3, 4],\n",
       "       [1, 2, 3, 4, 3, 1, 1, 1, 1, 4],\n",
       "       [4, 1, 5, 6, 3, 3, 1, 5, 6, 1],\n",
       "       [6, 5, 4, 2, 4, 3, 6, 5, 2, 5],\n",
       "       [3, 4, 5, 6, 4, 2, 4, 5, 3, 2],\n",
       "       [3, 6, 3, 4, 2, 4, 2, 4, 6, 1],\n",
       "       [3, 6, 1, 4, 5, 6, 3, 5, 1, 5],\n",
       "       [2, 2, 6, 1, 6, 6, 4, 3, 6, 2],\n",
       "       [3, 6, 6, 1, 1, 3, 4, 2, 5, 4],\n",
       "       [3, 2, 2, 3, 1, 6, 3, 4, 2, 3],\n",
       "       [3, 3, 6, 5, 3, 3, 6, 5, 6, 6],\n",
       "       [5, 5, 6, 4, 1, 3, 5, 5, 3, 3],\n",
       "       [3, 3, 6, 1, 3, 5, 5, 6, 5, 5],\n",
       "       [6, 5, 2, 5, 1, 5, 3, 6, 4, 2],\n",
       "       [5, 3, 3, 3, 3, 2, 6, 4, 5, 1],\n",
       "       [4, 1, 4, 4, 6, 2, 2, 2, 5, 1],\n",
       "       [3, 3, 3, 4, 5, 2, 6, 1, 6, 4],\n",
       "       [5, 2, 6, 2, 6, 1, 6, 1, 4, 6],\n",
       "       [2, 3, 5, 1, 5, 4, 6, 3, 2, 4],\n",
       "       [5, 5, 6, 4, 5, 1, 3, 6, 6, 1],\n",
       "       [5, 1, 2, 3, 6, 2, 2, 3, 5, 1],\n",
       "       [5, 1, 6, 6, 3, 1, 1, 2, 5, 1],\n",
       "       [5, 3, 2, 1, 3, 6, 2, 4, 4, 4],\n",
       "       [4, 1, 2, 4, 2, 1, 6, 6, 4, 4],\n",
       "       [1, 4, 1, 5, 2, 1, 3, 3, 6, 2]])"
      ]
     },
     "execution_count": 68,
     "metadata": {},
     "output_type": "execute_result"
    }
   ],
   "source": [
    "die_throws"
   ]
  },
  {
   "cell_type": "code",
   "execution_count": 69,
   "metadata": {},
   "outputs": [],
   "source": [
    "sample_means = np.mean(die_throws,axis=1)"
   ]
  },
  {
   "cell_type": "code",
   "execution_count": 70,
   "metadata": {},
   "outputs": [
    {
     "data": {
      "text/plain": [
       "(100,)"
      ]
     },
     "execution_count": 70,
     "metadata": {},
     "output_type": "execute_result"
    }
   ],
   "source": [
    "sample_means.shape"
   ]
  },
  {
   "cell_type": "code",
   "execution_count": 71,
   "metadata": {},
   "outputs": [],
   "source": [
    "import matplotlib.pyplot as plt "
   ]
  },
  {
   "cell_type": "code",
   "execution_count": 72,
   "metadata": {},
   "outputs": [
    {
     "data": {
      "text/plain": [
       "Text(0.5,0,'Sample')"
      ]
     },
     "execution_count": 72,
     "metadata": {},
     "output_type": "execute_result"
    },
    {
     "data": {
      "image/png": "[encoded data removed]",
      "text/plain": [
       "<Figure size 432x288 with 1 Axes>"
      ]
     },
     "metadata": {
      "needs_background": "light"
     },
     "output_type": "display_data"
    }
   ],
   "source": [
    "plt.hist(sample_means,bins=10)\n",
    "\n",
    "plt.xlabel(\"Sample\")"
   ]
  },
  {
   "cell_type": "code",
   "execution_count": 73,
   "metadata": {},
   "outputs": [
    {
     "data": {
      "text/plain": [
       "3.549"
      ]
     },
     "execution_count": 73,
     "metadata": {},
     "output_type": "execute_result"
    }
   ],
   "source": [
    "np.mean(sample_means)"
   ]
  },
  {
   "cell_type": "code",
   "execution_count": 76,
   "metadata": {},
   "outputs": [
    {
     "data": {
      "text/plain": [
       "0.265499"
      ]
     },
     "execution_count": 76,
     "metadata": {},
     "output_type": "execute_result"
    }
   ],
   "source": [
    "np.var(sample_means)"
   ]
  },
  {
   "cell_type": "code",
   "execution_count": 77,
   "metadata": {},
   "outputs": [
    {
     "data": {
      "text/plain": [
       "2.9154653092048837"
      ]
     },
     "execution_count": 77,
     "metadata": {},
     "output_type": "execute_result"
    }
   ],
   "source": [
    "np.var(np.random.randint(low=1,high=7, size=6000000))"
   ]
  },
  {
   "cell_type": "markdown",
   "metadata": {},
   "source": [
    "# Increasing Sample Size "
   ]
  },
  {
   "cell_type": "code",
   "execution_count": 79,
   "metadata": {},
   "outputs": [],
   "source": [
    "new_die_throws =np.random.randint(low=1, high=7, size=(100,35))"
   ]
  },
  {
   "cell_type": "code",
   "execution_count": 80,
   "metadata": {},
   "outputs": [
    {
     "data": {
      "text/plain": [
       "array([[5, 1, 4, ..., 4, 3, 5],\n",
       "       [4, 6, 6, ..., 6, 5, 4],\n",
       "       [4, 2, 2, ..., 3, 5, 1],\n",
       "       ...,\n",
       "       [3, 1, 5, ..., 5, 6, 5],\n",
       "       [4, 3, 1, ..., 1, 3, 4],\n",
       "       [6, 3, 4, ..., 6, 6, 1]])"
      ]
     },
     "execution_count": 80,
     "metadata": {},
     "output_type": "execute_result"
    }
   ],
   "source": [
    "new_die_throws"
   ]
  },
  {
   "cell_type": "code",
   "execution_count": 81,
   "metadata": {},
   "outputs": [
    {
     "data": {
      "text/plain": [
       "Text(0.5,0,'Sample')"
      ]
     },
     "execution_count": 81,
     "metadata": {},
     "output_type": "execute_result"
    },
    {
     "data": {
      "image/png": "[encoded data removed]",
      "text/plain": [
       "<Figure size 432x288 with 1 Axes>"
      ]
     },
     "metadata": {
      "needs_background": "light"
     },
     "output_type": "display_data"
    }
   ],
   "source": [
    "plt.hist(new_sample_means,bins=8)\n",
    "\n",
    "plt.xlabel(\"Sample\")"
   ]
  },
  {
   "cell_type": "code",
   "execution_count": 82,
   "metadata": {},
   "outputs": [],
   "source": [
    "new_sample_means = np.mean(new_die_throws,axis=1)"
   ]
  },
  {
   "cell_type": "code",
   "execution_count": 83,
   "metadata": {},
   "outputs": [
    {
     "data": {
      "text/plain": [
       "(100,)"
      ]
     },
     "execution_count": 83,
     "metadata": {},
     "output_type": "execute_result"
    }
   ],
   "source": [
    "new_sample_means.shape"
   ]
  },
  {
   "cell_type": "code",
   "execution_count": 84,
   "metadata": {},
   "outputs": [
    {
     "data": {
      "text/plain": [
       "3.5048571428571424"
      ]
     },
     "execution_count": 84,
     "metadata": {},
     "output_type": "execute_result"
    }
   ],
   "source": [
    "np.mean(new_sample_means)"
   ]
  },
  {
   "cell_type": "code",
   "execution_count": 85,
   "metadata": {},
   "outputs": [],
   "source": [
    "sample_variance = np.var(new_sample_means)"
   ]
  },
  {
   "cell_type": "code",
   "execution_count": 86,
   "metadata": {},
   "outputs": [
    {
     "data": {
      "text/plain": [
       "0.07090702040816327"
      ]
     },
     "execution_count": 86,
     "metadata": {},
     "output_type": "execute_result"
    }
   ],
   "source": [
    "sample_variance"
   ]
  },
  {
   "cell_type": "code",
   "execution_count": 87,
   "metadata": {},
   "outputs": [],
   "source": [
    "population_variance = np.var(np.random.randint(low=1,high=7, size=6000000))"
   ]
  },
  {
   "cell_type": "code",
   "execution_count": 88,
   "metadata": {},
   "outputs": [
    {
     "data": {
      "text/plain": [
       "0.08335733164621899"
      ]
     },
     "execution_count": 88,
     "metadata": {},
     "output_type": "execute_result"
    }
   ],
   "source": [
    "population_variance/35"
   ]
  },
  {
   "cell_type": "markdown",
   "metadata": {},
   "source": [
    "On increasing the sample size the range and variance is decreased. Sample variance is equal to sigma^2/N (N=sample size, sigma = population variance). Hence the Central Limit Theorem is proved."
   ]
  },
  {
   "cell_type": "code",
   "execution_count": null,
   "metadata": {},
   "outputs": [],
   "source": []
  }
 ],
 "metadata": {
  "kernelspec": {
   "display_name": "Python 3",
   "language": "python",
   "name": "python3"
  },
  "language_info": {
   "codemirror_mode": {
    "name": "ipython",
    "version": 3
   },
   "file_extension": ".py",
   "mimetype": "text/x-python",
   "name": "python",
   "nbconvert_exporter": "python",
   "pygments_lexer": "ipython3",
   "version": "3.7.0"
  }
 },
 "nbformat": 4,
 "nbformat_minor": 2
}
