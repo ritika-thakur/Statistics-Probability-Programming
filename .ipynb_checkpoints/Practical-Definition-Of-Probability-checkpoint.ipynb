{
 "cells": [
  {
   "cell_type": "markdown",
   "metadata": {},
   "source": [
    "# Frequentist Definition of Probability\n",
    "\n",
    "This experiment is to demonstrate that probability is actually relative frequency for a infinite or a very large number of population.\n",
    "\n",
    "We will be setting different values of sample sizes."
   ]
  },
  {
   "cell_type": "code",
   "execution_count": 2,
   "metadata": {},
   "outputs": [],
   "source": [
    "import numpy as np"
   ]
  },
  {
   "cell_type": "code",
   "execution_count": 39,
   "metadata": {},
   "outputs": [],
   "source": [
    "number_of_coin_tosses = np.arange(500,60500,500)"
   ]
  },
  {
   "cell_type": "code",
   "execution_count": 40,
   "metadata": {},
   "outputs": [
    {
     "data": {
      "text/plain": [
       "array([  500,  1000,  1500,  2000,  2500,  3000,  3500,  4000,  4500,\n",
       "        5000,  5500,  6000,  6500,  7000,  7500,  8000,  8500,  9000,\n",
       "        9500, 10000, 10500, 11000, 11500, 12000, 12500, 13000, 13500,\n",
       "       14000, 14500, 15000, 15500, 16000, 16500, 17000, 17500, 18000,\n",
       "       18500, 19000, 19500, 20000, 20500, 21000, 21500, 22000, 22500,\n",
       "       23000, 23500, 24000, 24500, 25000, 25500, 26000, 26500, 27000,\n",
       "       27500, 28000, 28500, 29000, 29500, 30000, 30500, 31000, 31500,\n",
       "       32000, 32500, 33000, 33500, 34000, 34500, 35000, 35500, 36000,\n",
       "       36500, 37000, 37500, 38000, 38500, 39000, 39500, 40000, 40500,\n",
       "       41000, 41500, 42000, 42500, 43000, 43500, 44000, 44500, 45000,\n",
       "       45500, 46000, 46500, 47000, 47500, 48000, 48500, 49000, 49500,\n",
       "       50000, 50500, 51000, 51500, 52000, 52500, 53000, 53500, 54000,\n",
       "       54500, 55000, 55500, 56000, 56500, 57000, 57500, 58000, 58500,\n",
       "       59000, 59500, 60000])"
      ]
     },
     "execution_count": 40,
     "metadata": {},
     "output_type": "execute_result"
    }
   ],
   "source": [
    "number_of_coin_tosses"
   ]
  },
  {
   "cell_type": "code",
   "execution_count": 41,
   "metadata": {},
   "outputs": [],
   "source": [
    "sample_coin_toss_results = np.random.binomial(n=1, p=0.5, size=number_of_coin_tosses[0])"
   ]
  },
  {
   "cell_type": "code",
   "execution_count": 42,
   "metadata": {},
   "outputs": [
    {
     "data": {
      "text/plain": [
       "array([1, 1, 1, 1, 1, 1, 0, 0, 0, 0, 1, 1, 0, 1, 1, 0, 1, 1, 0, 0, 0, 1,\n",
       "       0, 1, 1, 1, 0, 1, 0, 1, 1, 1, 1, 0, 1, 0, 1, 1, 1, 1, 1, 1, 1, 1,\n",
       "       1, 0, 1, 1, 0, 1, 1, 1, 0, 0, 1, 1, 1, 0, 0, 1, 1, 0, 1, 0, 1, 0,\n",
       "       1, 0, 1, 0, 1, 0, 1, 0, 0, 1, 0, 0, 0, 0, 1, 1, 1, 1, 0, 0, 1, 0,\n",
       "       0, 1, 1, 1, 1, 0, 0, 1, 0, 1, 1, 0, 1, 0, 0, 0, 0, 1, 1, 1, 0, 0,\n",
       "       0, 1, 0, 1, 1, 1, 1, 1, 0, 1, 1, 1, 1, 0, 1, 1, 0, 1, 1, 1, 0, 0,\n",
       "       1, 0, 0, 1, 0, 0, 0, 1, 1, 0, 1, 0, 0, 1, 0, 0, 1, 0, 1, 1, 1, 0,\n",
       "       1, 1, 0, 0, 1, 0, 1, 0, 1, 0, 0, 1, 0, 1, 1, 0, 0, 1, 1, 0, 1, 0,\n",
       "       1, 1, 1, 1, 1, 1, 1, 1, 0, 0, 0, 0, 0, 0, 1, 0, 0, 0, 0, 0, 1, 1,\n",
       "       1, 0, 0, 1, 0, 1, 1, 0, 1, 1, 1, 0, 1, 1, 1, 1, 0, 1, 1, 1, 1, 1,\n",
       "       0, 0, 0, 0, 0, 0, 1, 0, 1, 1, 1, 1, 1, 0, 1, 1, 1, 0, 0, 0, 0, 1,\n",
       "       1, 0, 0, 1, 1, 0, 0, 1, 0, 1, 1, 1, 0, 0, 1, 1, 0, 1, 1, 1, 0, 1,\n",
       "       0, 0, 0, 0, 1, 1, 1, 0, 1, 0, 0, 0, 1, 1, 0, 1, 1, 0, 0, 0, 1, 1,\n",
       "       0, 1, 0, 1, 0, 1, 1, 1, 0, 0, 0, 0, 0, 1, 1, 0, 0, 0, 1, 1, 0, 1,\n",
       "       0, 1, 1, 0, 0, 0, 1, 1, 1, 1, 1, 0, 0, 0, 1, 1, 0, 1, 0, 1, 1, 1,\n",
       "       0, 1, 0, 0, 0, 1, 1, 0, 0, 0, 1, 1, 1, 1, 0, 1, 1, 1, 0, 0, 0, 1,\n",
       "       0, 1, 1, 0, 0, 0, 1, 0, 0, 0, 0, 0, 0, 1, 0, 1, 1, 0, 1, 1, 0, 0,\n",
       "       0, 1, 0, 1, 0, 1, 0, 0, 1, 1, 1, 0, 1, 0, 0, 0, 1, 0, 0, 0, 0, 1,\n",
       "       0, 1, 1, 1, 1, 1, 0, 1, 1, 1, 1, 0, 1, 0, 1, 0, 1, 0, 1, 0, 1, 1,\n",
       "       0, 1, 1, 1, 1, 1, 0, 1, 0, 1, 1, 0, 1, 0, 0, 1, 0, 0, 1, 1, 1, 1,\n",
       "       1, 0, 0, 1, 1, 1, 0, 0, 0, 0, 0, 1, 1, 0, 0, 1, 0, 1, 1, 1, 0, 1,\n",
       "       1, 1, 1, 0, 0, 1, 0, 1, 0, 0, 1, 0, 1, 0, 0, 0, 0, 0, 0, 1, 1, 1,\n",
       "       1, 1, 1, 0, 1, 0, 0, 0, 1, 1, 1, 0, 1, 0, 0, 1])"
      ]
     },
     "execution_count": 42,
     "metadata": {},
     "output_type": "execute_result"
    }
   ],
   "source": [
    "sample_coin_toss_results"
   ]
  },
  {
   "cell_type": "code",
   "execution_count": 43,
   "metadata": {},
   "outputs": [],
   "source": [
    "sample_coin_toss_results = np.random.binomial(n=number_of_coin_tosses[0], p=0.5, size=1)"
   ]
  },
  {
   "cell_type": "code",
   "execution_count": 44,
   "metadata": {},
   "outputs": [
    {
     "data": {
      "text/plain": [
       "array([250])"
      ]
     },
     "execution_count": 44,
     "metadata": {},
     "output_type": "execute_result"
    }
   ],
   "source": [
    "sample_coin_toss_results"
   ]
  },
  {
   "cell_type": "code",
   "execution_count": 45,
   "metadata": {},
   "outputs": [],
   "source": [
    "sample_coin_toss_results = []\n",
    "\n",
    "for N in number_of_coin_tosses:\n",
    "    \n",
    "    sample_coin_toss_results.append(np.random.binomial(n=N, p=0.5, size=1))"
   ]
  },
  {
   "cell_type": "code",
   "execution_count": 46,
   "metadata": {},
   "outputs": [
    {
     "data": {
      "text/plain": [
       "[array([229]),\n",
       " array([512]),\n",
       " array([776]),\n",
       " array([956]),\n",
       " array([1272]),\n",
       " array([1441]),\n",
       " array([1717]),\n",
       " array([1927]),\n",
       " array([2239]),\n",
       " array([2481]),\n",
       " array([2713]),\n",
       " array([2982]),\n",
       " array([3252]),\n",
       " array([3483]),\n",
       " array([3752]),\n",
       " array([4042]),\n",
       " array([4223]),\n",
       " array([4555]),\n",
       " array([4782]),\n",
       " array([4881]),\n",
       " array([5140]),\n",
       " array([5440]),\n",
       " array([5789]),\n",
       " array([5919]),\n",
       " array([6218]),\n",
       " array([6463]),\n",
       " array([6676]),\n",
       " array([6964]),\n",
       " array([7249]),\n",
       " array([7591]),\n",
       " array([7825]),\n",
       " array([8038]),\n",
       " array([8150]),\n",
       " array([8438]),\n",
       " array([8757]),\n",
       " array([9007]),\n",
       " array([9199]),\n",
       " array([9606]),\n",
       " array([9682]),\n",
       " array([9933]),\n",
       " array([10253]),\n",
       " array([10535]),\n",
       " array([10717]),\n",
       " array([11023]),\n",
       " array([11191]),\n",
       " array([11467]),\n",
       " array([11766]),\n",
       " array([11913]),\n",
       " array([12231]),\n",
       " array([12397]),\n",
       " array([12789]),\n",
       " array([12969]),\n",
       " array([13269]),\n",
       " array([13602]),\n",
       " array([13614]),\n",
       " array([13915]),\n",
       " array([14297]),\n",
       " array([14439]),\n",
       " array([14722]),\n",
       " array([14978]),\n",
       " array([15237]),\n",
       " array([15473]),\n",
       " array([15790]),\n",
       " array([15825]),\n",
       " array([16225]),\n",
       " array([16491]),\n",
       " array([16639]),\n",
       " array([16925]),\n",
       " array([17380]),\n",
       " array([17469]),\n",
       " array([17660]),\n",
       " array([17981]),\n",
       " array([18208]),\n",
       " array([18350]),\n",
       " array([18962]),\n",
       " array([19044]),\n",
       " array([19063]),\n",
       " array([19666]),\n",
       " array([19680]),\n",
       " array([20021]),\n",
       " array([20355]),\n",
       " array([20353]),\n",
       " array([20843]),\n",
       " array([20976]),\n",
       " array([21387]),\n",
       " array([21545]),\n",
       " array([21682]),\n",
       " array([21988]),\n",
       " array([22267]),\n",
       " array([22591]),\n",
       " array([22875]),\n",
       " array([23035]),\n",
       " array([23091]),\n",
       " array([23284]),\n",
       " array([23800]),\n",
       " array([23855]),\n",
       " array([24371]),\n",
       " array([24393]),\n",
       " array([24818]),\n",
       " array([24939]),\n",
       " array([25263]),\n",
       " array([25581]),\n",
       " array([25889]),\n",
       " array([26072]),\n",
       " array([26318]),\n",
       " array([26401]),\n",
       " array([26943]),\n",
       " array([26874]),\n",
       " array([27301]),\n",
       " array([27699]),\n",
       " array([27716]),\n",
       " array([28045]),\n",
       " array([28194]),\n",
       " array([28540]),\n",
       " array([28621]),\n",
       " array([29146]),\n",
       " array([29183]),\n",
       " array([29439]),\n",
       " array([29443]),\n",
       " array([30053])]"
      ]
     },
     "execution_count": 46,
     "metadata": {},
     "output_type": "execute_result"
    }
   ],
   "source": [
    "sample_coin_toss_results"
   ]
  },
  {
   "cell_type": "code",
   "execution_count": 47,
   "metadata": {},
   "outputs": [],
   "source": [
    "sample_coin_toss_results = np.array(sample_coin_toss_results)"
   ]
  },
  {
   "cell_type": "code",
   "execution_count": 48,
   "metadata": {},
   "outputs": [
    {
     "data": {
      "text/plain": [
       "array([[  229],\n",
       "       [  512],\n",
       "       [  776],\n",
       "       [  956],\n",
       "       [ 1272],\n",
       "       [ 1441],\n",
       "       [ 1717],\n",
       "       [ 1927],\n",
       "       [ 2239],\n",
       "       [ 2481],\n",
       "       [ 2713],\n",
       "       [ 2982],\n",
       "       [ 3252],\n",
       "       [ 3483],\n",
       "       [ 3752],\n",
       "       [ 4042],\n",
       "       [ 4223],\n",
       "       [ 4555],\n",
       "       [ 4782],\n",
       "       [ 4881],\n",
       "       [ 5140],\n",
       "       [ 5440],\n",
       "       [ 5789],\n",
       "       [ 5919],\n",
       "       [ 6218],\n",
       "       [ 6463],\n",
       "       [ 6676],\n",
       "       [ 6964],\n",
       "       [ 7249],\n",
       "       [ 7591],\n",
       "       [ 7825],\n",
       "       [ 8038],\n",
       "       [ 8150],\n",
       "       [ 8438],\n",
       "       [ 8757],\n",
       "       [ 9007],\n",
       "       [ 9199],\n",
       "       [ 9606],\n",
       "       [ 9682],\n",
       "       [ 9933],\n",
       "       [10253],\n",
       "       [10535],\n",
       "       [10717],\n",
       "       [11023],\n",
       "       [11191],\n",
       "       [11467],\n",
       "       [11766],\n",
       "       [11913],\n",
       "       [12231],\n",
       "       [12397],\n",
       "       [12789],\n",
       "       [12969],\n",
       "       [13269],\n",
       "       [13602],\n",
       "       [13614],\n",
       "       [13915],\n",
       "       [14297],\n",
       "       [14439],\n",
       "       [14722],\n",
       "       [14978],\n",
       "       [15237],\n",
       "       [15473],\n",
       "       [15790],\n",
       "       [15825],\n",
       "       [16225],\n",
       "       [16491],\n",
       "       [16639],\n",
       "       [16925],\n",
       "       [17380],\n",
       "       [17469],\n",
       "       [17660],\n",
       "       [17981],\n",
       "       [18208],\n",
       "       [18350],\n",
       "       [18962],\n",
       "       [19044],\n",
       "       [19063],\n",
       "       [19666],\n",
       "       [19680],\n",
       "       [20021],\n",
       "       [20355],\n",
       "       [20353],\n",
       "       [20843],\n",
       "       [20976],\n",
       "       [21387],\n",
       "       [21545],\n",
       "       [21682],\n",
       "       [21988],\n",
       "       [22267],\n",
       "       [22591],\n",
       "       [22875],\n",
       "       [23035],\n",
       "       [23091],\n",
       "       [23284],\n",
       "       [23800],\n",
       "       [23855],\n",
       "       [24371],\n",
       "       [24393],\n",
       "       [24818],\n",
       "       [24939],\n",
       "       [25263],\n",
       "       [25581],\n",
       "       [25889],\n",
       "       [26072],\n",
       "       [26318],\n",
       "       [26401],\n",
       "       [26943],\n",
       "       [26874],\n",
       "       [27301],\n",
       "       [27699],\n",
       "       [27716],\n",
       "       [28045],\n",
       "       [28194],\n",
       "       [28540],\n",
       "       [28621],\n",
       "       [29146],\n",
       "       [29183],\n",
       "       [29439],\n",
       "       [29443],\n",
       "       [30053]])"
      ]
     },
     "execution_count": 48,
     "metadata": {},
     "output_type": "execute_result"
    }
   ],
   "source": [
    "sample_coin_toss_results"
   ]
  },
  {
   "cell_type": "code",
   "execution_count": 49,
   "metadata": {},
   "outputs": [
    {
     "data": {
      "text/plain": [
       "(120, 1)"
      ]
     },
     "execution_count": 49,
     "metadata": {},
     "output_type": "execute_result"
    }
   ],
   "source": [
    "sample_coin_toss_results.shape"
   ]
  },
  {
   "cell_type": "code",
   "execution_count": 50,
   "metadata": {},
   "outputs": [],
   "source": [
    "number_of_coin_tosses = number_of_coin_tosses.reshape(number_of_coin_tosses.shape[0],1)"
   ]
  },
  {
   "cell_type": "code",
   "execution_count": 51,
   "metadata": {},
   "outputs": [
    {
     "data": {
      "text/plain": [
       "(120, 1)"
      ]
     },
     "execution_count": 51,
     "metadata": {},
     "output_type": "execute_result"
    }
   ],
   "source": [
    "number_of_coin_tosses.shape"
   ]
  },
  {
   "cell_type": "code",
   "execution_count": 52,
   "metadata": {},
   "outputs": [],
   "source": [
    "relative_frequency = sample_coin_toss_results/number_of_coin_tosses"
   ]
  },
  {
   "cell_type": "code",
   "execution_count": 53,
   "metadata": {},
   "outputs": [],
   "source": [
    "import matplotlib.pyplot as plt"
   ]
  },
  {
   "cell_type": "code",
   "execution_count": 54,
   "metadata": {},
   "outputs": [
    {
     "data": {
      "text/plain": [
       "<StemContainer object of 3 artists>"
      ]
     },
     "execution_count": 54,
     "metadata": {},
     "output_type": "execute_result"
    },
    {
     "data": {
      "image/png": "[encoded data removed]",
      "text/plain": [
       "<Figure size 432x288 with 1 Axes>"
      ]
     },
     "metadata": {
      "needs_background": "light"
     },
     "output_type": "display_data"
    }
   ],
   "source": [
    "plt.stem(number_of_coin_tosses,relative_frequency) "
   ]
  },
  {
   "cell_type": "code",
   "execution_count": null,
   "metadata": {},
   "outputs": [],
   "source": []
  }
 ],
 "metadata": {
  "kernelspec": {
   "display_name": "Python 3",
   "language": "python",
   "name": "python3"
  },
  "language_info": {
   "codemirror_mode": {
    "name": "ipython",
    "version": 3
   },
   "file_extension": ".py",
   "mimetype": "text/x-python",
   "name": "python",
   "nbconvert_exporter": "python",
   "pygments_lexer": "ipython3",
   "version": "3.7.0"
  }
 },
 "nbformat": 4,
 "nbformat_minor": 2
}
