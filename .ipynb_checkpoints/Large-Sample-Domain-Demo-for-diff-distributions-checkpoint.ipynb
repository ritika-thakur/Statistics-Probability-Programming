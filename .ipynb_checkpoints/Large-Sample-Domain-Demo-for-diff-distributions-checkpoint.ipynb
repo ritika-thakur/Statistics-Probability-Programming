{
 "cells": [
  {
   "cell_type": "code",
   "execution_count": 10,
   "metadata": {},
   "outputs": [],
   "source": [
    "N = 35\n",
    "\n",
    "mu = 45\n",
    "sigma = 5\n",
    "\n",
    "p = 0.67\n",
    "\n",
    "lmbda = 10\n",
    "\n",
    "mode = 7"
   ]
  },
  {
   "cell_type": "code",
   "execution_count": 11,
   "metadata": {},
   "outputs": [],
   "source": [
    "no_samples = 100"
   ]
  },
  {
   "cell_type": "code",
   "execution_count": 12,
   "metadata": {},
   "outputs": [],
   "source": [
    "import numpy as np"
   ]
  },
  {
   "cell_type": "code",
   "execution_count": 16,
   "metadata": {},
   "outputs": [],
   "source": [
    "samples = np.random.normal(loc=mu, scale=sigma, size=(no_samples,N))"
   ]
  },
  {
   "cell_type": "code",
   "execution_count": 17,
   "metadata": {},
   "outputs": [],
   "source": [
    "import matplotlib.pyplot as plt"
   ]
  },
  {
   "cell_type": "code",
   "execution_count": 20,
   "metadata": {},
   "outputs": [
    {
     "data": {
      "text/plain": [
       "Text(0, 0.5, 'Frequency')"
      ]
     },
     "execution_count": 20,
     "metadata": {},
     "output_type": "execute_result"
    },
    {
     "data": {
      "image/png": "[encoded data removed]",
      "text/plain": [
       "<Figure size 720x720 with 1 Axes>"
      ]
     },
     "metadata": {
      "needs_background": "light"
     },
     "output_type": "display_data"
    }
   ],
   "source": [
    "plt.figure(figsize = (10,10))\n",
    "\n",
    "plt.hist(samples)\n",
    "\n",
    "plt.xlabel(\"Sample Mean\")\n",
    "\n",
    "plt.ylabel(\"Frequency\")"
   ]
  },
  {
   "cell_type": "code",
   "execution_count": 24,
   "metadata": {},
   "outputs": [],
   "source": [
    "mean_best_estimate = np.mean(samples)"
   ]
  },
  {
   "cell_type": "code",
   "execution_count": 25,
   "metadata": {},
   "outputs": [
    {
     "data": {
      "text/plain": [
       "44.90225338309578"
      ]
     },
     "execution_count": 25,
     "metadata": {},
     "output_type": "execute_result"
    }
   ],
   "source": [
    "mean_best_estimate"
   ]
  },
  {
   "cell_type": "code",
   "execution_count": 28,
   "metadata": {},
   "outputs": [],
   "source": [
    "std_best_estimate = np.std(samples)"
   ]
  },
  {
   "cell_type": "code",
   "execution_count": 29,
   "metadata": {},
   "outputs": [
    {
     "data": {
      "text/plain": [
       "4.934689146383536"
      ]
     },
     "execution_count": 29,
     "metadata": {},
     "output_type": "execute_result"
    }
   ],
   "source": [
    "std_best_estimate"
   ]
  },
  {
   "cell_type": "code",
   "execution_count": 30,
   "metadata": {},
   "outputs": [],
   "source": [
    "z_score_value = (samples - mean_best_estimate)/std_best_estimate"
   ]
  },
  {
   "cell_type": "code",
   "execution_count": 33,
   "metadata": {},
   "outputs": [
    {
     "data": {
      "text/plain": [
       "Text(0, 0.5, 'Frequency')"
      ]
     },
     "execution_count": 33,
     "metadata": {},
     "output_type": "execute_result"
    },
    {
     "data": {
      "image/png": "[encoded data removed]",
      "text/plain": [
       "<Figure size 432x288 with 1 Axes>"
      ]
     },
     "metadata": {
      "needs_background": "light"
     },
     "output_type": "display_data"
    }
   ],
   "source": [
    "plt.hist(z_score_value)\n",
    "\n",
    "plt.xlabel(\"z_score\")\n",
    "\n",
    "plt.ylabel(\"Frequency\")"
   ]
  },
  {
   "cell_type": "code",
   "execution_count": 45,
   "metadata": {},
   "outputs": [],
   "source": [
    "samples = np.random.binomial(n=N, p=p, size=no_samples)"
   ]
  },
  {
   "cell_type": "code",
   "execution_count": 46,
   "metadata": {},
   "outputs": [
    {
     "data": {
      "text/plain": [
       "array([25, 28, 24, 25, 21, 27, 27, 25, 19, 22, 23, 26, 27, 23, 23, 21, 22,\n",
       "       28, 25, 21, 22, 24, 23, 20, 23, 21, 24, 24, 25, 22, 23, 26, 22, 25,\n",
       "       19, 17, 21, 24, 25, 25, 27, 21, 20, 22, 23, 20, 26, 20, 26, 24, 20,\n",
       "       17, 21, 23, 15, 24, 21, 22, 27, 19, 26, 24, 29, 25, 23, 23, 24, 21,\n",
       "       20, 25, 24, 21, 27, 25, 27, 22, 20, 19, 21, 27, 25, 20, 27, 24, 26,\n",
       "       21, 24, 16, 20, 22, 24, 21, 24, 25, 24, 23, 22, 23, 27, 32])"
      ]
     },
     "execution_count": 46,
     "metadata": {},
     "output_type": "execute_result"
    }
   ],
   "source": [
    "samples"
   ]
  },
  {
   "cell_type": "code",
   "execution_count": 47,
   "metadata": {},
   "outputs": [
    {
     "data": {
      "text/plain": [
       "array([0.71428571, 0.8       , 0.68571429, 0.71428571, 0.6       ,\n",
       "       0.77142857, 0.77142857, 0.71428571, 0.54285714, 0.62857143,\n",
       "       0.65714286, 0.74285714, 0.77142857, 0.65714286, 0.65714286,\n",
       "       0.6       , 0.62857143, 0.8       , 0.71428571, 0.6       ,\n",
       "       0.62857143, 0.68571429, 0.65714286, 0.57142857, 0.65714286,\n",
       "       0.6       , 0.68571429, 0.68571429, 0.71428571, 0.62857143,\n",
       "       0.65714286, 0.74285714, 0.62857143, 0.71428571, 0.54285714,\n",
       "       0.48571429, 0.6       , 0.68571429, 0.71428571, 0.71428571,\n",
       "       0.77142857, 0.6       , 0.57142857, 0.62857143, 0.65714286,\n",
       "       0.57142857, 0.74285714, 0.57142857, 0.74285714, 0.68571429,\n",
       "       0.57142857, 0.48571429, 0.6       , 0.65714286, 0.42857143,\n",
       "       0.68571429, 0.6       , 0.62857143, 0.77142857, 0.54285714,\n",
       "       0.74285714, 0.68571429, 0.82857143, 0.71428571, 0.65714286,\n",
       "       0.65714286, 0.68571429, 0.6       , 0.57142857, 0.71428571,\n",
       "       0.68571429, 0.6       , 0.77142857, 0.71428571, 0.77142857,\n",
       "       0.62857143, 0.57142857, 0.54285714, 0.6       , 0.77142857,\n",
       "       0.71428571, 0.57142857, 0.77142857, 0.68571429, 0.74285714,\n",
       "       0.6       , 0.68571429, 0.45714286, 0.57142857, 0.62857143,\n",
       "       0.68571429, 0.6       , 0.68571429, 0.71428571, 0.68571429,\n",
       "       0.65714286, 0.62857143, 0.65714286, 0.77142857, 0.91428571])"
      ]
     },
     "execution_count": 47,
     "metadata": {},
     "output_type": "execute_result"
    }
   ],
   "source": [
    "rfs = samples/N\n",
    "\n",
    "rfs"
   ]
  },
  {
   "cell_type": "code",
   "execution_count": 48,
   "metadata": {},
   "outputs": [],
   "source": [
    "p_best_estimate = np.mean(rfs)"
   ]
  },
  {
   "cell_type": "code",
   "execution_count": 49,
   "metadata": {},
   "outputs": [
    {
     "data": {
      "text/plain": [
       "0.6622857142857141"
      ]
     },
     "execution_count": 49,
     "metadata": {},
     "output_type": "execute_result"
    }
   ],
   "source": [
    "p_best_estimate"
   ]
  },
  {
   "cell_type": "code",
   "execution_count": 54,
   "metadata": {},
   "outputs": [
    {
     "data": {
      "text/plain": [
       "Text(0, 0.5, 'Frequency')"
      ]
     },
     "execution_count": 54,
     "metadata": {},
     "output_type": "execute_result"
    },
    {
     "data": {
      "image/png": "[encoded data removed]",
      "text/plain": [
       "<Figure size 432x288 with 1 Axes>"
      ]
     },
     "metadata": {
      "needs_background": "light"
     },
     "output_type": "display_data"
    }
   ],
   "source": [
    "plt.hist(rfs, bins=9)\n",
    "\n",
    "plt.xlabel(\"Relative Frequency\")\n",
    "\n",
    "plt.ylabel(\"Frequency\")"
   ]
  },
  {
   "cell_type": "code",
   "execution_count": 55,
   "metadata": {},
   "outputs": [],
   "source": [
    "std = np.std(rfs)"
   ]
  },
  {
   "cell_type": "code",
   "execution_count": 56,
   "metadata": {},
   "outputs": [
    {
     "data": {
      "text/plain": [
       "0.0826480119394957"
      ]
     },
     "execution_count": 56,
     "metadata": {},
     "output_type": "execute_result"
    }
   ],
   "source": [
    "std"
   ]
  },
  {
   "cell_type": "code",
   "execution_count": 57,
   "metadata": {},
   "outputs": [],
   "source": [
    "z_score = (rfs - p_best_estimate)/std"
   ]
  },
  {
   "cell_type": "code",
   "execution_count": 58,
   "metadata": {},
   "outputs": [
    {
     "data": {
      "text/plain": [
       "array([ 0.62917424,  1.66627463,  0.28347411,  0.62917424, -0.75362629,\n",
       "        1.3205745 ,  1.3205745 ,  0.62917424, -1.44502655, -0.40792615,\n",
       "       -0.06222602,  0.97487437,  1.3205745 , -0.06222602, -0.06222602,\n",
       "       -0.75362629, -0.40792615,  1.66627463,  0.62917424, -0.75362629,\n",
       "       -0.40792615,  0.28347411, -0.06222602, -1.09932642, -0.06222602,\n",
       "       -0.75362629,  0.28347411,  0.28347411,  0.62917424, -0.40792615,\n",
       "       -0.06222602,  0.97487437, -0.40792615,  0.62917424, -1.44502655,\n",
       "       -2.13642681, -0.75362629,  0.28347411,  0.62917424,  0.62917424,\n",
       "        1.3205745 , -0.75362629, -1.09932642, -0.40792615, -0.06222602,\n",
       "       -1.09932642,  0.97487437, -1.09932642,  0.97487437,  0.28347411,\n",
       "       -1.09932642, -2.13642681, -0.75362629, -0.06222602, -2.82782707,\n",
       "        0.28347411, -0.75362629, -0.40792615,  1.3205745 , -1.44502655,\n",
       "        0.97487437,  0.28347411,  2.01197476,  0.62917424, -0.06222602,\n",
       "       -0.06222602,  0.28347411, -0.75362629, -1.09932642,  0.62917424,\n",
       "        0.28347411, -0.75362629,  1.3205745 ,  0.62917424,  1.3205745 ,\n",
       "       -0.40792615, -1.09932642, -1.44502655, -0.75362629,  1.3205745 ,\n",
       "        0.62917424, -1.09932642,  1.3205745 ,  0.28347411,  0.97487437,\n",
       "       -0.75362629,  0.28347411, -2.48212694, -1.09932642, -0.40792615,\n",
       "        0.28347411, -0.75362629,  0.28347411,  0.62917424,  0.28347411,\n",
       "       -0.06222602, -0.40792615, -0.06222602,  1.3205745 ,  3.04907516])"
      ]
     },
     "execution_count": 58,
     "metadata": {},
     "output_type": "execute_result"
    }
   ],
   "source": [
    "z_score"
   ]
  },
  {
   "cell_type": "code",
   "execution_count": 131,
   "metadata": {},
   "outputs": [
    {
     "data": {
      "text/plain": [
       "Text(0, 0.5, 'Frequency')"
      ]
     },
     "execution_count": 131,
     "metadata": {},
     "output_type": "execute_result"
    },
    {
     "data": {
      "image/png": "[encoded data removed]",
      "text/plain": [
       "<Figure size 432x288 with 1 Axes>"
      ]
     },
     "metadata": {
      "needs_background": "light"
     },
     "output_type": "display_data"
    }
   ],
   "source": [
    "plt.hist(z_score, bins=6)\n",
    "\n",
    "plt.xlabel(\"Z_score\")\n",
    "\n",
    "plt.ylabel(\"Frequency\")"
   ]
  },
  {
   "cell_type": "code",
   "execution_count": 83,
   "metadata": {},
   "outputs": [],
   "source": [
    "poisson_sample = np.random.poisson(lam=10, size=(no_samples,N))"
   ]
  },
  {
   "cell_type": "code",
   "execution_count": 84,
   "metadata": {},
   "outputs": [
    {
     "data": {
      "text/plain": [
       "array([[11,  9,  9, ..., 12, 14,  7],\n",
       "       [ 7, 16,  5, ..., 13, 12, 13],\n",
       "       [ 4, 14,  4, ...,  9,  5, 17],\n",
       "       ...,\n",
       "       [ 9,  9,  8, ...,  5, 12, 12],\n",
       "       [11, 10,  9, ...,  7, 17, 10],\n",
       "       [ 7, 14, 10, ..., 13,  7, 10]])"
      ]
     },
     "execution_count": 84,
     "metadata": {},
     "output_type": "execute_result"
    }
   ],
   "source": [
    "poisson_sample"
   ]
  },
  {
   "cell_type": "code",
   "execution_count": 85,
   "metadata": {},
   "outputs": [],
   "source": [
    "poisson_sample_means = np.mean(poisson_sample, axis=1)"
   ]
  },
  {
   "cell_type": "code",
   "execution_count": 86,
   "metadata": {},
   "outputs": [
    {
     "data": {
      "text/plain": [
       "array([ 9.97142857, 10.37142857, 10.05714286, 11.2       ,  9.74285714,\n",
       "       10.25714286, 10.17142857,  9.71428571,  9.88571429,  9.91428571,\n",
       "        9.57142857, 10.65714286, 10.08571429,  9.54285714, 10.6       ,\n",
       "       10.4       , 10.8       , 10.        , 10.22857143, 10.51428571,\n",
       "       10.31428571,  9.4       ,  9.85714286, 10.25714286, 10.17142857,\n",
       "        9.97142857,  9.8       ,  9.31428571, 10.4       ,  9.14285714,\n",
       "        9.62857143,  9.62857143,  9.8       ,  9.31428571, 11.57142857,\n",
       "       10.85714286, 10.        ,  9.77142857,  9.94285714, 10.45714286,\n",
       "       10.31428571,  9.62857143,  9.11428571,  9.48571429, 11.31428571,\n",
       "       10.14285714, 10.51428571,  9.68571429, 10.02857143, 10.25714286,\n",
       "       11.05714286,  9.82857143,  9.91428571, 10.        , 10.02857143,\n",
       "        9.97142857,  9.28571429,  9.42857143, 10.17142857,  9.8       ,\n",
       "       10.2       , 10.        , 10.08571429,  8.6       , 10.65714286,\n",
       "        9.85714286,  9.94285714, 10.54285714, 10.45714286, 10.6       ,\n",
       "        9.45714286, 10.45714286, 10.        ,  9.88571429,  9.74285714,\n",
       "       10.74285714, 10.22857143, 11.2       ,  9.74285714,  9.4       ,\n",
       "        9.91428571,  9.17142857,  9.91428571, 10.51428571, 11.02857143,\n",
       "        9.48571429, 10.02857143, 10.14285714, 10.14285714,  9.74285714,\n",
       "        9.97142857, 10.62857143, 10.31428571, 10.4       , 10.28571429,\n",
       "        9.97142857, 10.02857143, 10.14285714, 10.34285714, 10.        ])"
      ]
     },
     "execution_count": 86,
     "metadata": {},
     "output_type": "execute_result"
    }
   ],
   "source": [
    "poisson_sample_means"
   ]
  },
  {
   "cell_type": "code",
   "execution_count": 88,
   "metadata": {},
   "outputs": [
    {
     "data": {
      "text/plain": [
       "Text(0, 0.5, 'Frequency')"
      ]
     },
     "execution_count": 88,
     "metadata": {},
     "output_type": "execute_result"
    },
    {
     "data": {
      "image/png": "[encoded data removed]",
      "text/plain": [
       "<Figure size 432x288 with 1 Axes>"
      ]
     },
     "metadata": {
      "needs_background": "light"
     },
     "output_type": "display_data"
    }
   ],
   "source": [
    "plt.hist(poisson_sample_means, bins=9)\n",
    "\n",
    "plt.xlabel(\"Sample Mean\")\n",
    "\n",
    "plt.ylabel(\"Frequency\")"
   ]
  },
  {
   "cell_type": "code",
   "execution_count": 89,
   "metadata": {},
   "outputs": [],
   "source": [
    "lam_best_estimate = np.mean(poisson_sample_means)"
   ]
  },
  {
   "cell_type": "code",
   "execution_count": 90,
   "metadata": {},
   "outputs": [
    {
     "data": {
      "text/plain": [
       "10.072285714285716"
      ]
     },
     "execution_count": 90,
     "metadata": {},
     "output_type": "execute_result"
    }
   ],
   "source": [
    "lam_best_estimate"
   ]
  },
  {
   "cell_type": "code",
   "execution_count": 91,
   "metadata": {},
   "outputs": [],
   "source": [
    "std = np.std(poisson_sample_means)"
   ]
  },
  {
   "cell_type": "code",
   "execution_count": 92,
   "metadata": {},
   "outputs": [
    {
     "data": {
      "text/plain": [
       "0.5004398881310852"
      ]
     },
     "execution_count": 92,
     "metadata": {},
     "output_type": "execute_result"
    }
   ],
   "source": [
    "std"
   ]
  },
  {
   "cell_type": "code",
   "execution_count": 93,
   "metadata": {},
   "outputs": [],
   "source": [
    "z_score = (poisson_sample_means - lam_best_estimate)/std"
   ]
  },
  {
   "cell_type": "code",
   "execution_count": 94,
   "metadata": {},
   "outputs": [
    {
     "data": {
      "text/plain": [
       "array([-0.20153698,  0.59775982, -0.03025909,  2.25344604, -0.65827801,\n",
       "        0.36938931,  0.19811142, -0.71537063, -0.37281486, -0.31572224,\n",
       "       -1.00083378,  1.1686861 ,  0.02683354, -1.0579264 ,  1.05450085,\n",
       "        0.65485245,  1.45414925, -0.14444435,  0.31229668,  0.88322296,\n",
       "        0.48357456, -1.34338955, -0.42990749,  0.36938931,  0.19811142,\n",
       "       -0.20153698, -0.54409275, -1.51466743,  0.65485245, -1.8572232 ,\n",
       "       -0.88664852, -0.88664852, -0.54409275, -1.51466743,  2.99565021,\n",
       "        1.5683345 , -0.14444435, -0.60118538, -0.25862961,  0.7690377 ,\n",
       "        0.48357456, -0.88664852, -1.91431583, -1.17211166,  2.48181656,\n",
       "        0.14101879,  0.88322296, -0.77246326, -0.08735172,  0.36938931,\n",
       "        1.9679829 , -0.48700012, -0.31572224, -0.14444435, -0.08735172,\n",
       "       -0.20153698, -1.57176006, -1.28629692,  0.19811142, -0.54409275,\n",
       "        0.25520405, -0.14444435,  0.02683354, -2.94198314,  1.1686861 ,\n",
       "       -0.42990749, -0.25862961,  0.94031559,  0.7690377 ,  1.05450085,\n",
       "       -1.22920429,  0.7690377 , -0.14444435, -0.37281486, -0.65827801,\n",
       "        1.33996399,  0.31229668,  2.25344604, -0.65827801, -1.34338955,\n",
       "       -0.31572224, -1.80013057, -0.31572224,  0.88322296,  1.91089027,\n",
       "       -1.17211166, -0.08735172,  0.14101879,  0.14101879, -0.65827801,\n",
       "       -0.20153698,  1.11159348,  0.48357456,  0.65485245,  0.42648193,\n",
       "       -0.20153698, -0.08735172,  0.14101879,  0.54066719, -0.14444435])"
      ]
     },
     "execution_count": 94,
     "metadata": {},
     "output_type": "execute_result"
    }
   ],
   "source": [
    "z_score"
   ]
  },
  {
   "cell_type": "code",
   "execution_count": 119,
   "metadata": {},
   "outputs": [
    {
     "data": {
      "text/plain": [
       "Text(0, 0.5, 'frequency')"
      ]
     },
     "execution_count": 119,
     "metadata": {},
     "output_type": "execute_result"
    },
    {
     "data": {
      "image/png": "[encoded data removed]",
      "text/plain": [
       "<Figure size 432x288 with 1 Axes>"
      ]
     },
     "metadata": {
      "needs_background": "light"
     },
     "output_type": "display_data"
    }
   ],
   "source": [
    "plt.hist(z_score)\n",
    "\n",
    "plt.xlabel(\"Z_score\")\n",
    "\n",
    "plt.ylabel(\"frequency\")"
   ]
  },
  {
   "cell_type": "code",
   "execution_count": 120,
   "metadata": {},
   "outputs": [],
   "source": [
    "rayleigh_samples = np.random.rayleigh(scale = 7, size=(no_samples, N))"
   ]
  },
  {
   "cell_type": "code",
   "execution_count": 121,
   "metadata": {},
   "outputs": [
    {
     "data": {
      "text/plain": [
       "array([[ 9.19945585, 10.1009375 ,  5.9065137 , ...,  4.22006694,\n",
       "         1.65980882,  2.42325304],\n",
       "       [ 4.87986142, 11.69207661, 17.44035951, ...,  6.33982616,\n",
       "         3.54376674,  4.96977917],\n",
       "       [11.9701711 ,  8.03077403, 12.75087269, ...,  2.96735328,\n",
       "        16.75992771, 10.16672073],\n",
       "       ...,\n",
       "       [10.59883405, 10.04326274,  5.04379573, ...,  6.1100869 ,\n",
       "         5.14232781, 10.03610833],\n",
       "       [ 0.52354533,  1.93435703,  1.56145813, ...,  5.43881947,\n",
       "         4.99521847,  0.82477061],\n",
       "       [ 5.6648758 , 14.75523877,  7.21675546, ...,  2.10847173,\n",
       "         8.98246594,  0.90581731]])"
      ]
     },
     "execution_count": 121,
     "metadata": {},
     "output_type": "execute_result"
    }
   ],
   "source": [
    "rayleigh_samples"
   ]
  },
  {
   "cell_type": "code",
   "execution_count": 122,
   "metadata": {},
   "outputs": [],
   "source": [
    "mvue_values = np.sqrt(np.mean(rayleigh_samples**2, axis=1)/2)"
   ]
  },
  {
   "cell_type": "code",
   "execution_count": 123,
   "metadata": {},
   "outputs": [
    {
     "data": {
      "text/plain": [
       "array([6.69685254, 6.09474228, 6.4759768 , 6.6058824 , 7.15334525,\n",
       "       6.81817242, 6.30154279, 7.34543541, 6.09808526, 5.36044496,\n",
       "       6.55918177, 6.3576945 , 7.41064879, 7.39351694, 8.15826322,\n",
       "       6.79690513, 7.61356402, 7.01135395, 5.98035954, 6.4486824 ,\n",
       "       6.83712103, 7.41765373, 8.16452859, 7.18981487, 6.54867935,\n",
       "       7.60007531, 6.4627635 , 6.75177091, 6.82833852, 6.19500408,\n",
       "       6.12031313, 7.82187867, 6.43836861, 6.60642085, 6.99249583,\n",
       "       6.93763123, 6.95707272, 6.57097917, 7.5372606 , 6.26117998,\n",
       "       6.46471628, 6.13299707, 7.15096209, 7.87350041, 7.24056476,\n",
       "       6.71058848, 7.01812401, 7.10945401, 6.8007596 , 6.63847294,\n",
       "       7.621363  , 7.05046775, 6.80751505, 6.95957806, 6.16782773,\n",
       "       7.26774415, 6.9064198 , 7.13676845, 7.13233169, 8.24361589,\n",
       "       6.94208531, 7.19005109, 7.33492998, 6.53137129, 6.58246986,\n",
       "       6.76533067, 6.90574248, 7.91650686, 7.88150273, 6.78176086,\n",
       "       6.34602277, 7.61068453, 7.3962733 , 7.59496625, 6.80509252,\n",
       "       6.98634316, 6.91540932, 7.89788154, 6.68653472, 6.31755418,\n",
       "       6.1292526 , 6.74088854, 7.07174537, 6.84032204, 6.65684381,\n",
       "       6.51845072, 7.34002631, 6.68206245, 6.67792935, 6.16467857,\n",
       "       7.95737452, 6.60173234, 7.8799013 , 6.33146377, 7.36010958,\n",
       "       6.28891663, 7.10879982, 7.12183155, 7.73878665, 6.2751383 ])"
      ]
     },
     "execution_count": 123,
     "metadata": {},
     "output_type": "execute_result"
    }
   ],
   "source": [
    "mvue_values"
   ]
  },
  {
   "cell_type": "code",
   "execution_count": 124,
   "metadata": {},
   "outputs": [
    {
     "data": {
      "text/plain": [
       "Text(0, 0.5, 'Frequency')"
      ]
     },
     "execution_count": 124,
     "metadata": {},
     "output_type": "execute_result"
    },
    {
     "data": {
      "image/png": "[encoded data removed]",
      "text/plain": [
       "<Figure size 432x288 with 1 Axes>"
      ]
     },
     "metadata": {
      "needs_background": "light"
     },
     "output_type": "display_data"
    }
   ],
   "source": [
    "plt.hist(mvue_values, bins = 9)\n",
    "\n",
    "plt.xlabel(\"MVUE\")\n",
    "\n",
    "plt.ylabel(\"Frequency\")"
   ]
  },
  {
   "cell_type": "code",
   "execution_count": 125,
   "metadata": {},
   "outputs": [],
   "source": [
    "best_estimate = np.mean(mvue_values)"
   ]
  },
  {
   "cell_type": "code",
   "execution_count": 126,
   "metadata": {},
   "outputs": [
    {
     "data": {
      "text/plain": [
       "6.922285399436729"
      ]
     },
     "execution_count": 126,
     "metadata": {},
     "output_type": "execute_result"
    }
   ],
   "source": [
    "best_estimate"
   ]
  },
  {
   "cell_type": "code",
   "execution_count": 127,
   "metadata": {},
   "outputs": [
    {
     "data": {
      "text/plain": [
       "0.5590253661303689"
      ]
     },
     "execution_count": 127,
     "metadata": {},
     "output_type": "execute_result"
    }
   ],
   "source": [
    "std = np.std(mvue_values)\n",
    "std"
   ]
  },
  {
   "cell_type": "code",
   "execution_count": 128,
   "metadata": {},
   "outputs": [],
   "source": [
    "z_score = (mvue_values-best_estimate)/std"
   ]
  },
  {
   "cell_type": "code",
   "execution_count": 129,
   "metadata": {},
   "outputs": [
    {
     "data": {
      "text/plain": [
       "array([-0.40326051, -1.48033197, -0.79836914, -0.56599041,  0.41332624,\n",
       "       -0.18624017, -1.11040151,  0.75694241, -1.47435195, -2.79386327,\n",
       "       -0.64952979, -1.00995579,  0.8735979 ,  0.84295198,  2.21095124,\n",
       "       -0.22428369,  1.23657827,  0.15932827, -1.68494297, -0.84719411,\n",
       "       -0.15234437,  0.88612854,  2.2221589 ,  0.47856409, -0.6683168 ,\n",
       "        1.2124493 , -0.82200546, -0.30502103, -0.16805477, -1.30098089,\n",
       "       -1.43459012,  1.60921727, -0.8656437 , -0.56502723,  0.12559436,\n",
       "        0.02745105,  0.06222852, -0.62842628,  1.10008461, -1.18260362,\n",
       "       -0.81851227, -1.41190074,  0.40906318,  1.70155966,  0.5693469 ,\n",
       "       -0.37868928,  0.17143875,  0.33481237, -0.2173887 , -0.50769156,\n",
       "        1.2505293 ,  0.22929613, -0.20530436,  0.06671015, -1.3495947 ,\n",
       "        0.61796614, -0.02838082,  0.3836732 ,  0.37573661,  2.36363244,\n",
       "        0.03541863,  0.47898666,  0.73815001, -0.69927794, -0.60787141,\n",
       "       -0.28076495, -0.02959243,  1.77849078,  1.71587444, -0.25137417,\n",
       "       -1.0308345 ,  1.23142736,  0.84788263,  1.20331007, -0.20963786,\n",
       "        0.11458829, -0.01230012,  1.74517329, -0.42171732, -1.08175989,\n",
       "       -1.41859895, -0.32448771,  0.26735813, -0.14661833, -0.47482924,\n",
       "       -0.72239062,  0.74726647, -0.42971744, -0.43711085, -1.35522799,\n",
       "        1.85159598, -0.57341416,  1.71300975, -1.05687804,  0.78319197,\n",
       "       -1.13298753,  0.33364214,  0.35695367,  1.46057997, -1.15763459])"
      ]
     },
     "execution_count": 129,
     "metadata": {},
     "output_type": "execute_result"
    }
   ],
   "source": [
    "z_score"
   ]
  },
  {
   "cell_type": "code",
   "execution_count": 130,
   "metadata": {},
   "outputs": [
    {
     "data": {
      "text/plain": [
       "Text(0, 0.5, 'Frequency')"
      ]
     },
     "execution_count": 130,
     "metadata": {},
     "output_type": "execute_result"
    },
    {
     "data": {
      "image/png": "[encoded data removed]",
      "text/plain": [
       "<Figure size 432x288 with 1 Axes>"
      ]
     },
     "metadata": {
      "needs_background": "light"
     },
     "output_type": "display_data"
    }
   ],
   "source": [
    "plt.hist(z_score)\n",
    "\n",
    "plt.xlabel(\"Z_score\")\n",
    "\n",
    "plt.ylabel(\"Frequency\")"
   ]
  }
 ],
 "metadata": {
  "kernelspec": {
   "display_name": "Python 3",
   "language": "python",
   "name": "python3"
  },
  "language_info": {
   "codemirror_mode": {
    "name": "ipython",
    "version": 3
   },
   "file_extension": ".py",
   "mimetype": "text/x-python",
   "name": "python",
   "nbconvert_exporter": "python",
   "pygments_lexer": "ipython3",
   "version": "3.7.0"
  }
 },
 "nbformat": 4,
 "nbformat_minor": 2
}
