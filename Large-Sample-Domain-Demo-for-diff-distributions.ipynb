{
 "cells": [
  {
   "cell_type": "code",
   "execution_count": 1,
   "metadata": {},
   "outputs": [],
   "source": [
    "N = 40\n",
    "\n",
    "mu = 45\n",
    "sigma = 5\n",
    "\n",
    "p = 0.67\n",
    "\n",
    "lmbda = 10\n",
    "\n",
    "mode = 7"
   ]
  },
  {
   "cell_type": "code",
   "execution_count": 2,
   "metadata": {},
   "outputs": [],
   "source": [
    "no_samples = 100"
   ]
  },
  {
   "cell_type": "code",
   "execution_count": 3,
   "metadata": {},
   "outputs": [],
   "source": [
    "import numpy as np"
   ]
  },
  {
   "cell_type": "code",
   "execution_count": 4,
   "metadata": {},
   "outputs": [],
   "source": [
    "samples = np.random.normal(loc=mu, scale=sigma, size=(no_samples,N))"
   ]
  },
  {
   "cell_type": "code",
   "execution_count": 5,
   "metadata": {},
   "outputs": [],
   "source": [
    "import matplotlib.pyplot as plt"
   ]
  },
  {
   "cell_type": "code",
   "execution_count": 51,
   "metadata": {},
   "outputs": [
    {
     "data": {
      "text/plain": [
       "Text(0, 0.5, 'Frequency')"
      ]
     },
     "execution_count": 51,
     "metadata": {},
     "output_type": "execute_result"
    },
    {
     "data": {
      "image/png": "[encoded data removed]",
      "text/plain": [
       "<Figure size 432x288 with 1 Axes>"
      ]
     },
     "metadata": {
      "needs_background": "light"
     },
     "output_type": "display_data"
    }
   ],
   "source": [
    "plt.hist(samples, bins=7)\n",
    "\n",
    "plt.xlabel(\"Sample Mean\")\n",
    "\n",
    "plt.ylabel(\"Frequency\")"
   ]
  },
  {
   "cell_type": "code",
   "execution_count": 7,
   "metadata": {},
   "outputs": [],
   "source": [
    "mean_best_estimate = np.mean(samples)"
   ]
  },
  {
   "cell_type": "code",
   "execution_count": 8,
   "metadata": {},
   "outputs": [
    {
     "data": {
      "text/plain": [
       "45.007397162535284"
      ]
     },
     "execution_count": 8,
     "metadata": {},
     "output_type": "execute_result"
    }
   ],
   "source": [
    "mean_best_estimate"
   ]
  },
  {
   "cell_type": "code",
   "execution_count": 9,
   "metadata": {},
   "outputs": [],
   "source": [
    "std_best_estimate = np.std(samples)"
   ]
  },
  {
   "cell_type": "code",
   "execution_count": 10,
   "metadata": {},
   "outputs": [
    {
     "data": {
      "text/plain": [
       "4.947083324414601"
      ]
     },
     "execution_count": 10,
     "metadata": {},
     "output_type": "execute_result"
    }
   ],
   "source": [
    "std_best_estimate"
   ]
  },
  {
   "cell_type": "code",
   "execution_count": 11,
   "metadata": {},
   "outputs": [],
   "source": [
    "z_score_value = (samples - mean_best_estimate)/std_best_estimate"
   ]
  },
  {
   "cell_type": "code",
   "execution_count": 52,
   "metadata": {},
   "outputs": [
    {
     "data": {
      "text/plain": [
       "Text(0, 0.5, 'Frequency')"
      ]
     },
     "execution_count": 52,
     "metadata": {},
     "output_type": "execute_result"
    },
    {
     "data": {
      "image/png": "[encoded data removed]",
      "text/plain": [
       "<Figure size 432x288 with 1 Axes>"
      ]
     },
     "metadata": {
      "needs_background": "light"
     },
     "output_type": "display_data"
    }
   ],
   "source": [
    "plt.hist(z_score_value)\n",
    "\n",
    "plt.xlabel(\"z_score\")\n",
    "\n",
    "plt.ylabel(\"Frequency\")"
   ]
  },
  {
   "cell_type": "code",
   "execution_count": 13,
   "metadata": {},
   "outputs": [],
   "source": [
    "samples = np.random.binomial(n=N, p=p, size=no_samples)"
   ]
  },
  {
   "cell_type": "code",
   "execution_count": 14,
   "metadata": {},
   "outputs": [
    {
     "data": {
      "text/plain": [
       "array([29, 29, 28, 31, 29, 27, 29, 29, 29, 27, 24, 27, 27, 23, 26, 28, 27,\n",
       "       22, 30, 25, 30, 28, 26, 32, 29, 26, 28, 26, 26, 28, 29, 21, 31, 24,\n",
       "       27, 30, 25, 25, 22, 33, 28, 27, 23, 29, 30, 23, 24, 30, 26, 26, 29,\n",
       "       29, 25, 29, 25, 25, 31, 35, 32, 22, 28, 28, 30, 29, 32, 27, 25, 29,\n",
       "       29, 24, 29, 24, 33, 24, 28, 32, 28, 22, 23, 27, 26, 31, 27, 26, 28,\n",
       "       26, 31, 33, 28, 27, 28, 31, 29, 27, 29, 32, 27, 29, 27, 23])"
      ]
     },
     "execution_count": 14,
     "metadata": {},
     "output_type": "execute_result"
    }
   ],
   "source": [
    "samples"
   ]
  },
  {
   "cell_type": "code",
   "execution_count": 15,
   "metadata": {},
   "outputs": [
    {
     "data": {
      "text/plain": [
       "array([0.725, 0.725, 0.7  , 0.775, 0.725, 0.675, 0.725, 0.725, 0.725,\n",
       "       0.675, 0.6  , 0.675, 0.675, 0.575, 0.65 , 0.7  , 0.675, 0.55 ,\n",
       "       0.75 , 0.625, 0.75 , 0.7  , 0.65 , 0.8  , 0.725, 0.65 , 0.7  ,\n",
       "       0.65 , 0.65 , 0.7  , 0.725, 0.525, 0.775, 0.6  , 0.675, 0.75 ,\n",
       "       0.625, 0.625, 0.55 , 0.825, 0.7  , 0.675, 0.575, 0.725, 0.75 ,\n",
       "       0.575, 0.6  , 0.75 , 0.65 , 0.65 , 0.725, 0.725, 0.625, 0.725,\n",
       "       0.625, 0.625, 0.775, 0.875, 0.8  , 0.55 , 0.7  , 0.7  , 0.75 ,\n",
       "       0.725, 0.8  , 0.675, 0.625, 0.725, 0.725, 0.6  , 0.725, 0.6  ,\n",
       "       0.825, 0.6  , 0.7  , 0.8  , 0.7  , 0.55 , 0.575, 0.675, 0.65 ,\n",
       "       0.775, 0.675, 0.65 , 0.7  , 0.65 , 0.775, 0.825, 0.7  , 0.675,\n",
       "       0.7  , 0.775, 0.725, 0.675, 0.725, 0.8  , 0.675, 0.725, 0.675,\n",
       "       0.575])"
      ]
     },
     "execution_count": 15,
     "metadata": {},
     "output_type": "execute_result"
    }
   ],
   "source": [
    "rfs = samples/N\n",
    "\n",
    "rfs"
   ]
  },
  {
   "cell_type": "code",
   "execution_count": 16,
   "metadata": {},
   "outputs": [],
   "source": [
    "p_best_estimate = np.mean(rfs)"
   ]
  },
  {
   "cell_type": "code",
   "execution_count": 17,
   "metadata": {},
   "outputs": [
    {
     "data": {
      "text/plain": [
       "0.689"
      ]
     },
     "execution_count": 17,
     "metadata": {},
     "output_type": "execute_result"
    }
   ],
   "source": [
    "p_best_estimate"
   ]
  },
  {
   "cell_type": "code",
   "execution_count": 48,
   "metadata": {},
   "outputs": [
    {
     "data": {
      "text/plain": [
       "Text(0, 0.5, 'Frequency')"
      ]
     },
     "execution_count": 48,
     "metadata": {},
     "output_type": "execute_result"
    },
    {
     "data": {
      "image/png": "[encoded data removed]",
      "text/plain": [
       "<Figure size 432x288 with 1 Axes>"
      ]
     },
     "metadata": {
      "needs_background": "light"
     },
     "output_type": "display_data"
    }
   ],
   "source": [
    "plt.hist(rfs, bins=7)\n",
    "\n",
    "plt.xlabel(\"Relative Frequency\")\n",
    "\n",
    "plt.ylabel(\"Frequency\")"
   ]
  },
  {
   "cell_type": "code",
   "execution_count": 19,
   "metadata": {},
   "outputs": [],
   "source": [
    "std = np.std(rfs)"
   ]
  },
  {
   "cell_type": "code",
   "execution_count": 20,
   "metadata": {},
   "outputs": [
    {
     "data": {
      "text/plain": [
       "0.07126710321038733"
      ]
     },
     "execution_count": 20,
     "metadata": {},
     "output_type": "execute_result"
    }
   ],
   "source": [
    "std"
   ]
  },
  {
   "cell_type": "code",
   "execution_count": 21,
   "metadata": {},
   "outputs": [],
   "source": [
    "z_score = (rfs - p_best_estimate)/std"
   ]
  },
  {
   "cell_type": "code",
   "execution_count": 22,
   "metadata": {},
   "outputs": [
    {
     "data": {
      "text/plain": [
       "array([ 0.5051419 ,  0.5051419 ,  0.15434891,  1.20672787,  0.5051419 ,\n",
       "       -0.19644407,  0.5051419 ,  0.5051419 ,  0.5051419 , -0.19644407,\n",
       "       -1.24882303, -0.19644407, -0.19644407, -1.59961602, -0.54723706,\n",
       "        0.15434891, -0.19644407, -1.95040901,  0.85593489, -0.89803005,\n",
       "        0.85593489,  0.15434891, -0.54723706,  1.55752086,  0.5051419 ,\n",
       "       -0.54723706,  0.15434891, -0.54723706, -0.54723706,  0.15434891,\n",
       "        0.5051419 , -2.30120199,  1.20672787, -1.24882303, -0.19644407,\n",
       "        0.85593489, -0.89803005, -0.89803005, -1.95040901,  1.90831385,\n",
       "        0.15434891, -0.19644407, -1.59961602,  0.5051419 ,  0.85593489,\n",
       "       -1.59961602, -1.24882303,  0.85593489, -0.54723706, -0.54723706,\n",
       "        0.5051419 ,  0.5051419 , -0.89803005,  0.5051419 , -0.89803005,\n",
       "       -0.89803005,  1.20672787,  2.60989982,  1.55752086, -1.95040901,\n",
       "        0.15434891,  0.15434891,  0.85593489,  0.5051419 ,  1.55752086,\n",
       "       -0.19644407, -0.89803005,  0.5051419 ,  0.5051419 , -1.24882303,\n",
       "        0.5051419 , -1.24882303,  1.90831385, -1.24882303,  0.15434891,\n",
       "        1.55752086,  0.15434891, -1.95040901, -1.59961602, -0.19644407,\n",
       "       -0.54723706,  1.20672787, -0.19644407, -0.54723706,  0.15434891,\n",
       "       -0.54723706,  1.20672787,  1.90831385,  0.15434891, -0.19644407,\n",
       "        0.15434891,  1.20672787,  0.5051419 , -0.19644407,  0.5051419 ,\n",
       "        1.55752086, -0.19644407,  0.5051419 , -0.19644407, -1.59961602])"
      ]
     },
     "execution_count": 22,
     "metadata": {},
     "output_type": "execute_result"
    }
   ],
   "source": [
    "z_score"
   ]
  },
  {
   "cell_type": "code",
   "execution_count": 23,
   "metadata": {},
   "outputs": [
    {
     "data": {
      "text/plain": [
       "Text(0, 0.5, 'Frequency')"
      ]
     },
     "execution_count": 23,
     "metadata": {},
     "output_type": "execute_result"
    },
    {
     "data": {
      "image/png": "[encoded data removed]",
      "text/plain": [
       "<Figure size 432x288 with 1 Axes>"
      ]
     },
     "metadata": {
      "needs_background": "light"
     },
     "output_type": "display_data"
    }
   ],
   "source": [
    "plt.hist(z_score, bins=6)\n",
    "\n",
    "plt.xlabel(\"Z_score\")\n",
    "\n",
    "plt.ylabel(\"Frequency\")"
   ]
  },
  {
   "cell_type": "code",
   "execution_count": 24,
   "metadata": {},
   "outputs": [],
   "source": [
    "poisson_sample = np.random.poisson(lam=10, size=(no_samples,N))"
   ]
  },
  {
   "cell_type": "code",
   "execution_count": 25,
   "metadata": {},
   "outputs": [
    {
     "data": {
      "text/plain": [
       "array([[11, 11,  5, ...,  6,  7,  7],\n",
       "       [ 4, 12, 11, ...,  4,  8, 12],\n",
       "       [16, 13,  9, ..., 14, 15, 12],\n",
       "       ...,\n",
       "       [12, 13, 15, ..., 10,  7,  6],\n",
       "       [ 4, 14,  9, ...,  4, 10, 10],\n",
       "       [11,  9, 12, ...,  8, 10, 15]])"
      ]
     },
     "execution_count": 25,
     "metadata": {},
     "output_type": "execute_result"
    }
   ],
   "source": [
    "poisson_sample"
   ]
  },
  {
   "cell_type": "code",
   "execution_count": 26,
   "metadata": {},
   "outputs": [],
   "source": [
    "poisson_sample_means = np.mean(poisson_sample, axis=1)"
   ]
  },
  {
   "cell_type": "code",
   "execution_count": 27,
   "metadata": {},
   "outputs": [
    {
     "data": {
      "text/plain": [
       "array([10.15 ,  8.65 , 10.5  ,  9.95 , 10.2  ,  9.775,  9.125, 10.475,\n",
       "        9.925, 10.575, 10.25 ,  9.875, 10.625,  9.05 , 10.85 ,  9.15 ,\n",
       "       10.2  ,  9.85 ,  9.25 , 10.925, 10.175, 10.525,  9.575,  9.8  ,\n",
       "        9.75 , 10.225,  9.1  ,  9.925,  9.475,  9.7  ,  9.975,  9.8  ,\n",
       "       10.25 , 10.375,  9.925,  9.775, 10.3  , 10.3  ,  9.475, 10.45 ,\n",
       "       11.   , 10.6  , 10.   ,  9.65 ,  9.775,  9.275, 10.125,  9.75 ,\n",
       "       10.3  ,  9.025,  9.475,  9.575, 10.425,  9.225,  9.6  , 10.4  ,\n",
       "       10.25 , 10.225, 10.675,  8.625, 10.675,  8.875, 10.225,  9.775,\n",
       "        9.95 , 10.15 , 10.375,  9.65 ,  9.7  , 10.   , 10.625, 10.775,\n",
       "        9.85 ,  9.95 , 10.4  ,  9.8  , 10.55 ,  9.5  , 10.325,  9.325,\n",
       "        9.75 ,  9.725, 10.15 , 10.175, 10.825, 10.325,  9.725,  9.7  ,\n",
       "       10.55 ,  9.45 , 10.35 ,  9.95 , 10.675, 10.55 , 10.775, 10.875,\n",
       "        9.7  , 10.4  , 10.425, 10.65 ])"
      ]
     },
     "execution_count": 27,
     "metadata": {},
     "output_type": "execute_result"
    }
   ],
   "source": [
    "poisson_sample_means"
   ]
  },
  {
   "cell_type": "code",
   "execution_count": 55,
   "metadata": {},
   "outputs": [
    {
     "data": {
      "text/plain": [
       "Text(0, 0.5, 'Frequency')"
      ]
     },
     "execution_count": 55,
     "metadata": {},
     "output_type": "execute_result"
    },
    {
     "data": {
      "image/png": "[encoded data removed]",
      "text/plain": [
       "<Figure size 432x288 with 1 Axes>"
      ]
     },
     "metadata": {
      "needs_background": "light"
     },
     "output_type": "display_data"
    }
   ],
   "source": [
    "plt.hist(poisson_sample_means, bins=8)\n",
    "\n",
    "plt.xlabel(\"Sample Mean\")\n",
    "\n",
    "plt.ylabel(\"Frequency\")"
   ]
  },
  {
   "cell_type": "code",
   "execution_count": 29,
   "metadata": {},
   "outputs": [],
   "source": [
    "lam_best_estimate = np.mean(poisson_sample_means)"
   ]
  },
  {
   "cell_type": "code",
   "execution_count": 30,
   "metadata": {},
   "outputs": [
    {
     "data": {
      "text/plain": [
       "10.014"
      ]
     },
     "execution_count": 30,
     "metadata": {},
     "output_type": "execute_result"
    }
   ],
   "source": [
    "lam_best_estimate"
   ]
  },
  {
   "cell_type": "code",
   "execution_count": 31,
   "metadata": {},
   "outputs": [],
   "source": [
    "std = np.std(poisson_sample_means)"
   ]
  },
  {
   "cell_type": "code",
   "execution_count": 32,
   "metadata": {},
   "outputs": [
    {
     "data": {
      "text/plain": [
       "0.5210364670538906"
      ]
     },
     "execution_count": 32,
     "metadata": {},
     "output_type": "execute_result"
    }
   ],
   "source": [
    "std"
   ]
  },
  {
   "cell_type": "code",
   "execution_count": 33,
   "metadata": {},
   "outputs": [],
   "source": [
    "z_score = (poisson_sample_means - lam_best_estimate)/std"
   ]
  },
  {
   "cell_type": "code",
   "execution_count": 34,
   "metadata": {},
   "outputs": [
    {
     "data": {
      "text/plain": [
       "array([ 0.2610182 , -2.61785899,  0.93275621, -0.12283209,  0.35698077,\n",
       "       -0.4587011 , -1.70621455,  0.88477492, -0.17081338,  1.07670007,\n",
       "        0.45294334, -0.26677595,  1.17266264, -1.85015841,  1.60449422,\n",
       "       -1.65823326,  0.35698077, -0.31475724, -1.46630812,  1.74843808,\n",
       "        0.30899949,  0.9807375 , -0.84255139, -0.41071981, -0.50668239,\n",
       "        0.40496206, -1.75419583, -0.17081338, -1.03447654, -0.60264496,\n",
       "       -0.07485081, -0.41071981,  0.45294334,  0.69284978, -0.17081338,\n",
       "       -0.4587011 ,  0.54890592,  0.54890592, -1.03447654,  0.83679364,\n",
       "        1.89238194,  1.12468136, -0.02686952, -0.69860753, -0.4587011 ,\n",
       "       -1.41832683,  0.21303691, -0.50668239,  0.54890592, -1.89813969,\n",
       "       -1.03447654, -0.84255139,  0.78881235, -1.5142894 , -0.7945701 ,\n",
       "        0.74083106,  0.45294334,  0.40496206,  1.26862521, -2.66584028,\n",
       "        1.26862521, -2.18602741,  0.40496206, -0.4587011 , -0.12283209,\n",
       "        0.2610182 ,  0.69284978, -0.69860753, -0.60264496, -0.02686952,\n",
       "        1.17266264,  1.46055036, -0.31475724, -0.12283209,  0.74083106,\n",
       "       -0.41071981,  1.02871878, -0.98649525,  0.5968872 , -1.32236426,\n",
       "       -0.50668239, -0.55466367,  0.2610182 ,  0.30899949,  1.55651293,\n",
       "        0.5968872 , -0.55466367, -0.60264496,  1.02871878, -1.08245782,\n",
       "        0.64486849, -0.12283209,  1.26862521,  1.02871878,  1.46055036,\n",
       "        1.65247551, -0.60264496,  0.74083106,  0.78881235,  1.22064393])"
      ]
     },
     "execution_count": 34,
     "metadata": {},
     "output_type": "execute_result"
    }
   ],
   "source": [
    "z_score"
   ]
  },
  {
   "cell_type": "code",
   "execution_count": 47,
   "metadata": {},
   "outputs": [
    {
     "data": {
      "text/plain": [
       "Text(0, 0.5, 'frequency')"
      ]
     },
     "execution_count": 47,
     "metadata": {},
     "output_type": "execute_result"
    },
    {
     "data": {
      "image/png": "[encoded data removed]",
      "text/plain": [
       "<Figure size 432x288 with 1 Axes>"
      ]
     },
     "metadata": {
      "needs_background": "light"
     },
     "output_type": "display_data"
    }
   ],
   "source": [
    "plt.hist(z_score, bins=7)\n",
    "\n",
    "plt.xlabel(\"Z_score\")\n",
    "\n",
    "plt.ylabel(\"frequency\")"
   ]
  },
  {
   "cell_type": "code",
   "execution_count": 36,
   "metadata": {},
   "outputs": [],
   "source": [
    "rayleigh_samples = np.random.rayleigh(scale = 7, size=(no_samples, N))"
   ]
  },
  {
   "cell_type": "code",
   "execution_count": 37,
   "metadata": {},
   "outputs": [
    {
     "data": {
      "text/plain": [
       "array([[11.3957469 , 12.24215193, 13.23543829, ...,  9.12724294,\n",
       "         4.08117197,  8.0642192 ],\n",
       "       [ 5.02237924,  7.07016626, 12.60761426, ...,  9.65744388,\n",
       "         8.01452619,  8.21494458],\n",
       "       [17.66221766,  8.7248944 , 12.85357242, ...,  2.92050596,\n",
       "        13.71674272,  9.11627838],\n",
       "       ...,\n",
       "       [ 5.90734862,  9.44515502,  9.62526675, ...,  8.423765  ,\n",
       "         4.25680321,  2.65966141],\n",
       "       [12.5440488 , 13.41966764,  9.27859934, ...,  9.34547317,\n",
       "        11.52619311, 22.79749525],\n",
       "       [12.85284181, 11.42435505,  7.45963586, ...,  0.2670846 ,\n",
       "         4.09237696,  9.6379748 ]])"
      ]
     },
     "execution_count": 37,
     "metadata": {},
     "output_type": "execute_result"
    }
   ],
   "source": [
    "rayleigh_samples"
   ]
  },
  {
   "cell_type": "code",
   "execution_count": 38,
   "metadata": {},
   "outputs": [],
   "source": [
    "mvue_values = np.sqrt(np.mean(rayleigh_samples**2, axis=1)/2)"
   ]
  },
  {
   "cell_type": "code",
   "execution_count": 39,
   "metadata": {},
   "outputs": [
    {
     "data": {
      "text/plain": [
       "array([7.66512617, 6.04893948, 6.85580576, 7.25649273, 7.89247616,\n",
       "       6.35778657, 6.40776128, 6.40103962, 6.86888954, 6.7825374 ,\n",
       "       8.19458661, 7.38563186, 6.30150406, 7.17756863, 6.73142551,\n",
       "       6.74228748, 7.41649316, 6.7975667 , 6.7740152 , 7.24033808,\n",
       "       7.32094789, 5.99950234, 6.62129937, 6.00740369, 7.51133323,\n",
       "       7.19152604, 7.05056205, 5.96737197, 6.90454336, 7.8832385 ,\n",
       "       6.77300147, 6.16769922, 6.41431653, 7.60025766, 7.46176483,\n",
       "       7.52046075, 6.4760443 , 7.89705197, 6.58264041, 7.93824134,\n",
       "       6.59499009, 7.03613916, 7.4292681 , 7.22960432, 6.02822983,\n",
       "       6.35111787, 6.86394786, 7.02558974, 6.6823913 , 7.03945289,\n",
       "       6.29994874, 7.20287114, 6.95334534, 6.60691651, 7.32822608,\n",
       "       7.07185019, 6.96215685, 7.40970729, 7.41280675, 7.52413745,\n",
       "       6.93277229, 6.9157192 , 6.46574717, 7.83640806, 5.92447525,\n",
       "       6.55897823, 7.15678504, 5.817913  , 6.87649193, 7.39873782,\n",
       "       7.16587985, 6.25398725, 8.07870579, 7.12360822, 6.49837032,\n",
       "       6.24992675, 6.6664966 , 6.74729184, 6.62668317, 6.28940247,\n",
       "       6.89375602, 8.24198144, 6.65506721, 6.17989729, 6.25441272,\n",
       "       7.0272401 , 6.65172421, 5.97320946, 6.64026225, 7.70978192,\n",
       "       7.67972287, 7.01415132, 6.23130441, 6.77714615, 5.49677366,\n",
       "       7.84049354, 7.67808445, 6.47353688, 6.7885082 , 7.86481924])"
      ]
     },
     "execution_count": 39,
     "metadata": {},
     "output_type": "execute_result"
    }
   ],
   "source": [
    "mvue_values"
   ]
  },
  {
   "cell_type": "code",
   "execution_count": 40,
   "metadata": {},
   "outputs": [
    {
     "data": {
      "text/plain": [
       "Text(0, 0.5, 'Frequency')"
      ]
     },
     "execution_count": 40,
     "metadata": {},
     "output_type": "execute_result"
    },
    {
     "data": {
      "image/png": "[encoded data removed]",
      "text/plain": [
       "<Figure size 432x288 with 1 Axes>"
      ]
     },
     "metadata": {
      "needs_background": "light"
     },
     "output_type": "display_data"
    }
   ],
   "source": [
    "plt.hist(mvue_values, bins = 9)\n",
    "\n",
    "plt.xlabel(\"MVUE\")\n",
    "\n",
    "plt.ylabel(\"Frequency\")"
   ]
  },
  {
   "cell_type": "code",
   "execution_count": 41,
   "metadata": {},
   "outputs": [],
   "source": [
    "best_estimate = np.mean(mvue_values)"
   ]
  },
  {
   "cell_type": "code",
   "execution_count": 42,
   "metadata": {},
   "outputs": [
    {
     "data": {
      "text/plain": [
       "6.912964299960977"
      ]
     },
     "execution_count": 42,
     "metadata": {},
     "output_type": "execute_result"
    }
   ],
   "source": [
    "best_estimate"
   ]
  },
  {
   "cell_type": "code",
   "execution_count": 43,
   "metadata": {},
   "outputs": [
    {
     "data": {
      "text/plain": [
       "0.5884273807659127"
      ]
     },
     "execution_count": 43,
     "metadata": {},
     "output_type": "execute_result"
    }
   ],
   "source": [
    "std = np.std(mvue_values)\n",
    "std"
   ]
  },
  {
   "cell_type": "code",
   "execution_count": 44,
   "metadata": {},
   "outputs": [],
   "source": [
    "z_score = (mvue_values-best_estimate)/std"
   ]
  },
  {
   "cell_type": "code",
   "execution_count": 45,
   "metadata": {},
   "outputs": [
    {
     "data": {
      "text/plain": [
       "array([ 1.27825777, -1.46836271, -0.09713779,  0.58380769,  1.66462657,\n",
       "       -0.94349404, -0.85856476, -0.86998786, -0.07490263, -0.22165335,\n",
       "        2.17804669,  0.80327254, -1.03914307,  0.44968051, -0.3085152 ,\n",
       "       -0.29005587,  0.85571962, -0.19611189, -0.23613636,  0.55635374,\n",
       "        0.69334569, -1.5523784 , -0.49566852, -1.5389505 ,  1.01689512,\n",
       "        0.47340037,  0.23383982, -1.6069822 , -0.01431093,  1.6489277 ,\n",
       "       -0.23785914, -1.26653705, -0.84742448,  1.1680173 ,  0.93265635,\n",
       "        1.03240683, -0.74252153,  1.67240291, -0.56136729,  1.74240199,\n",
       "       -0.54037969,  0.2093289 ,  0.87742993,  0.53811231, -1.50355761,\n",
       "       -0.95482713, -0.08330074,  0.19140074, -0.39184615,  0.2149604 ,\n",
       "       -1.04178626,  0.49268075,  0.06862536, -0.52011139,  0.70571457,\n",
       "        0.27001784,  0.08360003,  0.84418742,  0.84945478,  1.03865518,\n",
       "        0.03366259,  0.00468181, -0.76002094,  1.56934193, -1.67988283,\n",
       "       -0.60157987,  0.41435996, -1.86097951, -0.06198278,  0.8255454 ,\n",
       "        0.42981608, -1.11989528,  1.9811136 ,  0.35797777, -0.70457968,\n",
       "       -1.12679588, -0.41885831, -0.28155124, -0.48651905, -1.05970907,\n",
       "       -0.03264342,  2.25859161, -0.43828193, -1.24580711, -1.11917223,\n",
       "        0.19420544, -0.44396319, -1.59706172, -0.46344216,  1.35414776,\n",
       "        1.30306406,  0.17196179, -1.15844353, -0.23081548, -2.40673817,\n",
       "        1.57628498,  1.30027965, -0.74678276, -0.2115063 ,  1.61762517])"
      ]
     },
     "execution_count": 45,
     "metadata": {},
     "output_type": "execute_result"
    }
   ],
   "source": [
    "z_score"
   ]
  },
  {
   "cell_type": "code",
   "execution_count": 46,
   "metadata": {},
   "outputs": [
    {
     "data": {
      "text/plain": [
       "Text(0, 0.5, 'Frequency')"
      ]
     },
     "execution_count": 46,
     "metadata": {},
     "output_type": "execute_result"
    },
    {
     "data": {
      "image/png": "[encoded data removed]",
      "text/plain": [
       "<Figure size 432x288 with 1 Axes>"
      ]
     },
     "metadata": {
      "needs_background": "light"
     },
     "output_type": "display_data"
    }
   ],
   "source": [
    "plt.hist(z_score)\n",
    "\n",
    "plt.xlabel(\"Z_score\")\n",
    "\n",
    "plt.ylabel(\"Frequency\")"
   ]
  }
 ],
 "metadata": {
  "kernelspec": {
   "display_name": "Python 3",
   "language": "python",
   "name": "python3"
  },
  "language_info": {
   "codemirror_mode": {
    "name": "ipython",
    "version": 3
   },
   "file_extension": ".py",
   "mimetype": "text/x-python",
   "name": "python",
   "nbconvert_exporter": "python",
   "pygments_lexer": "ipython3",
   "version": "3.7.0"
  }
 },
 "nbformat": 4,
 "nbformat_minor": 2
}
